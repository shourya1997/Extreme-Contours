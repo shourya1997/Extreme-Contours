{
 "cells": [
  {
   "cell_type": "markdown",
   "metadata": {},
   "source": [
    "# Finding Extreme Contours"
   ]
  },
  {
   "cell_type": "markdown",
   "metadata": {},
   "source": [
    "We will use [Convex Hull](https://en.wikipedia.org/wiki/Convex_hull) method to to find the extreme points in the image. \n",
    "\n",
    "We will segment the skin/hand from the image and then find the extreme points along the convex hull.\n"
   ]
  },
  {
   "cell_type": "code",
   "execution_count": 14,
   "metadata": {
    "collapsed": true
   },
   "outputs": [],
   "source": [
    "import imutils\n",
    "import cv2"
   ]
  },
  {
   "cell_type": "markdown",
   "metadata": {},
   "source": [
    "We will now load the image and covert it to grayscale and then blur it slightly."
   ]
  },
  {
   "cell_type": "code",
   "execution_count": 27,
   "metadata": {
    "collapsed": true
   },
   "outputs": [],
   "source": [
    "image = cv2.imread(\"hand.jpg\")\n",
    "gray = cv2.cvtColor(image, cv2.COLOR_BGR2GRAY)\n",
    "gray = cv2.GaussianBlur(gray,(5,5),0)"
   ]
  },
  {
   "cell_type": "markdown",
   "metadata": {},
   "source": [
    "## Morphological Operations"
   ]
  },
  {
   "cell_type": "markdown",
   "metadata": {},
   "source": [
    "Now we we will threashold the image and perforn erosions and dilations to remove regions of noise\n",
    "\n",
    "[Erosion and Dialation](https://docs.opencv.org/3.0-beta/doc/py_tutorials/py_imgproc/py_morphological_ops/py_morphological_ops.html)"
   ]
  },
  {
   "cell_type": "code",
   "execution_count": 28,
   "metadata": {
    "collapsed": true
   },
   "outputs": [],
   "source": [
    "thresh = cv2.threshold(gray,45,255,cv2.THRESH_BINARY)[1]\n",
    "thresh = cv2.erode(thresh,None,iterations=2)\n",
    "thresh = cv2.dilate(thresh,None,iterations=2)"
   ]
  },
  {
   "cell_type": "markdown",
   "metadata": {},
   "source": [
    "## Finding Contours\n",
    "\n",
    "Contour is a Numpy array of x,y co-ordinates."
   ]
  },
  {
   "cell_type": "code",
   "execution_count": 29,
   "metadata": {
    "collapsed": true
   },
   "outputs": [],
   "source": [
    "cnts = cv2.findContours(thresh.copy(),\n",
    "                        cv2.RETR_EXTERNAL,\n",
    "                       cv2.CHAIN_APPROX_SIMPLE)\n",
    "cnts = cnts[0] if imutils.is_cv2() else cnts[1]\n",
    "c = max(cnts, key=cv2.contourArea)"
   ]
  },
  {
   "cell_type": "markdown",
   "metadata": {},
   "source": [
    "We will now find the extreme left, right, top and bottom coordinates."
   ]
  },
  {
   "cell_type": "code",
   "execution_count": 30,
   "metadata": {
    "collapsed": true
   },
   "outputs": [],
   "source": [
    "extLeft = tuple(c[c[:,:,0].argmin()][0])\n",
    "extRight = tuple(c[c[:,:,0].argmax()][0])\n",
    "extTop = tuple(c[c[:,:,1].argmin()][0])\n",
    "extBot = tuple(c[c[:,:,1].argmax()][0])"
   ]
  },
  {
   "cell_type": "markdown",
   "metadata": {},
   "source": [
    "## Outline the Hand"
   ]
  },
  {
   "cell_type": "code",
   "execution_count": 31,
   "metadata": {},
   "outputs": [
    {
     "data": {
      "text/plain": [
       "array([[[ 41,  44,  42],\n",
       "        [ 41,  44,  42],\n",
       "        [ 41,  44,  42],\n",
       "        ..., \n",
       "        [ 21,  26,  25],\n",
       "        [ 22,  27,  25],\n",
       "        [ 22,  27,  25]],\n",
       "\n",
       "       [[ 36,  39,  37],\n",
       "        [ 37,  40,  38],\n",
       "        [ 38,  41,  39],\n",
       "        ..., \n",
       "        [ 21,  26,  25],\n",
       "        [ 22,  27,  25],\n",
       "        [ 22,  27,  25]],\n",
       "\n",
       "       [[ 37,  40,  38],\n",
       "        [ 38,  41,  39],\n",
       "        [ 39,  42,  40],\n",
       "        ..., \n",
       "        [ 21,  26,  25],\n",
       "        [ 22,  27,  25],\n",
       "        [ 22,  27,  25]],\n",
       "\n",
       "       ..., \n",
       "       [[ 43,  47,  42],\n",
       "        [ 40,  44,  39],\n",
       "        [ 39,  43,  38],\n",
       "        ..., \n",
       "        [185, 193, 176],\n",
       "        [187, 197, 181],\n",
       "        [187, 197, 181]],\n",
       "\n",
       "       [[ 62,  66,  61],\n",
       "        [ 59,  63,  58],\n",
       "        [ 59,  63,  58],\n",
       "        ..., \n",
       "        [186, 195, 175],\n",
       "        [194, 206, 184],\n",
       "        [194, 206, 184]],\n",
       "\n",
       "       [[ 44,  48,  43],\n",
       "        [ 45,  49,  44],\n",
       "        [ 53,  57,  52],\n",
       "        ..., \n",
       "        [187, 196, 175],\n",
       "        [187, 200, 174],\n",
       "        [187, 200, 174]]], dtype=uint8)"
      ]
     },
     "execution_count": 31,
     "metadata": {},
     "output_type": "execute_result"
    }
   ],
   "source": [
    "# draws outline of hand\n",
    "cv2.drawContours(image, [c], -1, (0,255,255), 2)\n",
    "# draws circle on extreme points\n",
    "cv2.circle(image, extLeft, 8, (0, 0, 255), -1)\n",
    "cv2.circle(image, extRight, 8, (0, 255, 0), -1)\n",
    "cv2.circle(image, extTop, 8, (255, 0, 0), -1)\n",
    "cv2.circle(image, extBot, 8, (255, 255, 0), -1)"
   ]
  },
  {
   "cell_type": "markdown",
   "metadata": {},
   "source": [
    "## Display Image"
   ]
  },
  {
   "cell_type": "code",
   "execution_count": 32,
   "metadata": {},
   "outputs": [
    {
     "data": {
      "text/plain": [
       "-1"
      ]
     },
     "execution_count": 32,
     "metadata": {},
     "output_type": "execute_result"
    }
   ],
   "source": [
    "cv2.imshow(\"Image\", image)\n",
    "cv2.waitKey(0)"
   ]
  }
 ],
 "metadata": {
  "kernelspec": {
   "display_name": "Python 3",
   "language": "python",
   "name": "python3"
  },
  "language_info": {
   "codemirror_mode": {
    "name": "ipython",
    "version": 3
   },
   "file_extension": ".py",
   "mimetype": "text/x-python",
   "name": "python",
   "nbconvert_exporter": "python",
   "pygments_lexer": "ipython3",
   "version": "3.5.3"
  }
 },
 "nbformat": 4,
 "nbformat_minor": 2
}
